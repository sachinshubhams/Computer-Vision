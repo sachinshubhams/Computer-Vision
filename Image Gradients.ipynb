{
 "cells": [
  {
   "cell_type": "markdown",
   "metadata": {},
   "source": [
    "<b>Gradients</b>\n",
    "- An image gradient is a directional change in the intensity or color in an image.\n",
    "- Gradient can be calculated in a specific direction, for example normalized x-gradient or normalized y-gradient\n",
    "<b>Sobel operator</b>\n",
    "- The Sobel operator, sometimes called the Sobel–Feldman operator or Sobel filter, is used in image processing and computer vision, particularly within edge detection     algorithms where it creates an image emphasising edges.\n",
    "- The Sobel operator, sometimes called the Sobel–Feldman operator or Sobel filter, is used in image processing and computer vision, particularly within edge detection  \n",
    "  algorithms where it creates an image emphasising edges.\n",
    "  \n",
    "  ![image info](./sobel.png)\n"
   ]
  },
  {
   "cell_type": "code",
   "execution_count": null,
   "metadata": {},
   "outputs": [],
   "source": []
  }
 ],
 "metadata": {
  "kernelspec": {
   "display_name": "Python 3",
   "language": "python",
   "name": "python3"
  },
  "language_info": {
   "codemirror_mode": {
    "name": "ipython",
    "version": 3
   },
   "file_extension": ".py",
   "mimetype": "text/x-python",
   "name": "python",
   "nbconvert_exporter": "python",
   "pygments_lexer": "ipython3",
   "version": "3.6.6"
  }
 },
 "nbformat": 4,
 "nbformat_minor": 2
}
