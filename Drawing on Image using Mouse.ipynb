{
 "cells": [
  {
   "cell_type": "code",
   "execution_count": 7,
   "metadata": {},
   "outputs": [],
   "source": [
    "import cv2 as cv\n",
    "import numpy as np\n",
    "\n",
    "def draw_circle(event, x, y, flags, param):\n",
    "    if event==cv.EVENT_LBUTTONDOWN:\n",
    "        cv.circle(img,(x,y),100,(0,255,0),-1)\n",
    "    elif event==cv.EVENT_RBUTTONDOWN:\n",
    "        cv.circle(img,(x,y),100,(255,0,0),-1)\n",
    "cv.namedWindow(winname='my_image')\n",
    "cv.setMouseCallback('my_image',draw_circle)\n",
    "#Showing Image with opencv\n",
    "img=np.zeros((512,512,3))\n",
    "while True:\n",
    "        cv.imshow('my_image',img)\n",
    "        if cv.waitKey(20) & 0xFF == 27:\n",
    "            break\n",
    "cv.destroyAllWindows()            "
   ]
  },
  {
   "cell_type": "code",
   "execution_count": 8,
   "metadata": {},
   "outputs": [],
   "source": [
    "drawing=False#when mouse button up\n",
    "ix,iy=-1,-1\n",
    "def draw_rectangle(event, x, y, flags, param):\n",
    "    global ix,iy,drawing\n",
    "    if event==cv.EVENT_LBUTTONDOWN:\n",
    "        drawing=True\n",
    "        ix,iy=x,y\n",
    "    elif event==cv.EVENT_MOUSEMOVE:\n",
    "        if drawing==True:\n",
    "            cv.rectangle(img,(ix,iy),(x,y),(0,0,255),-1)\n",
    "    elif event==cv.EVENT_LBUTTONUP:\n",
    "        drawing=False\n",
    "        cv.rectangle(img,(ix,iy),(x,y),(0,0,255),-1)\n",
    "#Showing the Image\n",
    "img=np.zeros((512,512,3))\n",
    "cv.namedWindow(winname='my_drawing')\n",
    "cv.setMouseCallback('my_drawing', draw_rectangle)\n",
    "while True:\n",
    "    cv.imshow('my_drawing',img)\n",
    "    if cv.waitKey(1) & 0xFF==27:\n",
    "        break\n",
    "cv.destroyAllWindows()        "
   ]
  }
 ],
 "metadata": {
  "kernelspec": {
   "display_name": "Python 3",
   "language": "python",
   "name": "python3"
  },
  "language_info": {
   "codemirror_mode": {
    "name": "ipython",
    "version": 3
   },
   "file_extension": ".py",
   "mimetype": "text/x-python",
   "name": "python",
   "nbconvert_exporter": "python",
   "pygments_lexer": "ipython3",
   "version": "3.6.6"
  }
 },
 "nbformat": 4,
 "nbformat_minor": 2
}
