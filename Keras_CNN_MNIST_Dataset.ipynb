{
  "cells": [
    {
      "cell_type": "code",
      "execution_count": 1,
      "metadata": {
        "id": "Uu6XNs8u9HSY"
      },
      "outputs": [],
      "source": [
        "from keras.datasets import mnist\n",
        "import numpy as np"
      ]
    },
    {
      "cell_type": "code",
      "execution_count": 2,
      "metadata": {
        "colab": {
          "base_uri": "https://localhost:8080/"
        },
        "id": "zquy1VXp9HSc",
        "outputId": "5206cfdc-f239-4bec-c0fb-0ec6aa757389"
      },
      "outputs": [
        {
          "output_type": "stream",
          "name": "stdout",
          "text": [
            "Downloading data from https://storage.googleapis.com/tensorflow/tf-keras-datasets/mnist.npz\n",
            "11493376/11490434 [==============================] - 0s 0us/step\n",
            "11501568/11490434 [==============================] - 0s 0us/step\n"
          ]
        }
      ],
      "source": [
        "(x_train,y_train),(x_test,y_test)=mnist.load_data()"
      ]
    },
    {
      "cell_type": "code",
      "execution_count": 3,
      "metadata": {
        "colab": {
          "base_uri": "https://localhost:8080/"
        },
        "id": "pRoSV9AB9HSd",
        "outputId": "8017b1f0-4db5-44e4-b72b-00d26c3bf5f1"
      },
      "outputs": [
        {
          "output_type": "execute_result",
          "data": {
            "text/plain": [
              "(60000, 28, 28)"
            ]
          },
          "metadata": {},
          "execution_count": 3
        }
      ],
      "source": [
        "x_train.shape"
      ]
    },
    {
      "cell_type": "code",
      "source": [
        "import matplotlib.pyplot as plt"
      ],
      "metadata": {
        "id": "R8SYEcsJWo-t"
      },
      "execution_count": 4,
      "outputs": []
    },
    {
      "cell_type": "code",
      "execution_count": 5,
      "metadata": {
        "id": "2ZRV_RmX9HSe"
      },
      "outputs": [],
      "source": [
        "first_image=x_train[0]"
      ]
    },
    {
      "cell_type": "code",
      "execution_count": 6,
      "metadata": {
        "colab": {
          "base_uri": "https://localhost:8080/",
          "height": 282
        },
        "id": "W4ZH_j2f9HSe",
        "outputId": "12f40ebd-967f-4b6b-c6aa-631cf281a26e"
      },
      "outputs": [
        {
          "output_type": "execute_result",
          "data": {
            "text/plain": [
              "<matplotlib.image.AxesImage at 0x7f0eed3ac4d0>"
            ]
          },
          "metadata": {},
          "execution_count": 6
        },
        {
          "output_type": "display_data",
          "data": {
            "image/png": "[encoded data removed]",
            "text/plain": [
              "<Figure size 432x288 with 1 Axes>"
            ]
          },
          "metadata": {
            "needs_background": "light"
          }
        }
      ],
      "source": [
        "plt.imshow(first_image,cmap='gray_r')"
      ]
    },
    {
      "cell_type": "code",
      "execution_count": 7,
      "metadata": {
        "colab": {
          "base_uri": "https://localhost:8080/"
        },
        "id": "Y8wU4baH9HSf",
        "outputId": "e1fde897-8136-4f39-cfd7-4f88f88c7283"
      },
      "outputs": [
        {
          "output_type": "execute_result",
          "data": {
            "text/plain": [
              "(60000,)"
            ]
          },
          "metadata": {},
          "execution_count": 7
        }
      ],
      "source": [
        "y_train.shape"
      ]
    },
    {
      "cell_type": "code",
      "execution_count": 8,
      "metadata": {
        "colab": {
          "base_uri": "https://localhost:8080/"
        },
        "id": "AFijsZ7B9HSh",
        "outputId": "ae145f5e-4455-4c30-db26-af4edc424c9d"
      },
      "outputs": [
        {
          "output_type": "execute_result",
          "data": {
            "text/plain": [
              "array([5, 0, 4, ..., 5, 6, 8], dtype=uint8)"
            ]
          },
          "metadata": {},
          "execution_count": 8
        }
      ],
      "source": [
        "y_train"
      ]
    },
    {
      "cell_type": "code",
      "execution_count": 9,
      "metadata": {
        "colab": {
          "base_uri": "https://localhost:8080/"
        },
        "id": "2oGmRL719HSi",
        "outputId": "bf9d909a-e826-4d51-da0a-ce7b3e12a4e0"
      },
      "outputs": [
        {
          "output_type": "execute_result",
          "data": {
            "text/plain": [
              "255"
            ]
          },
          "metadata": {},
          "execution_count": 9
        }
      ],
      "source": [
        "first_image.max()"
      ]
    },
    {
      "cell_type": "code",
      "execution_count": 10,
      "metadata": {
        "id": "YAHO0JwY9HSi"
      },
      "outputs": [],
      "source": [
        "x_train=x_train/x_train.max()"
      ]
    },
    {
      "cell_type": "code",
      "execution_count": 11,
      "metadata": {
        "id": "GTISWJYx9HSi"
      },
      "outputs": [],
      "source": [
        "x_test=x_test/x_test.max()"
      ]
    },
    {
      "cell_type": "code",
      "execution_count": 12,
      "metadata": {
        "colab": {
          "base_uri": "https://localhost:8080/"
        },
        "id": "nQo8sZ5h9HSj",
        "outputId": "fe59fbb1-f7f8-40cb-8cbb-5177ea7c8559"
      },
      "outputs": [
        {
          "output_type": "execute_result",
          "data": {
            "text/plain": [
              "1.0"
            ]
          },
          "metadata": {},
          "execution_count": 12
        }
      ],
      "source": [
        "x_train[0].max()"
      ]
    },
    {
      "cell_type": "code",
      "execution_count": 13,
      "metadata": {
        "colab": {
          "base_uri": "https://localhost:8080/",
          "height": 282
        },
        "id": "EQiofGMM9HSj",
        "outputId": "0510faab-fc74-49d3-c400-131adb9b3640"
      },
      "outputs": [
        {
          "output_type": "execute_result",
          "data": {
            "text/plain": [
              "<matplotlib.image.AxesImage at 0x7f0eecea2450>"
            ]
          },
          "metadata": {},
          "execution_count": 13
        },
        {
          "output_type": "display_data",
          "data": {
            "image/png": "[encoded data removed]",
            "text/plain": [
              "<Figure size 432x288 with 1 Axes>"
            ]
          },
          "metadata": {
            "needs_background": "light"
          }
        }
      ],
      "source": [
        "plt.imshow(x_train[0],cmap='gray_r')"
      ]
    },
    {
      "cell_type": "code",
      "execution_count": 14,
      "metadata": {
        "id": "_k7M6Taj9HSj"
      },
      "outputs": [],
      "source": [
        "x_train=x_train.reshape(60000,28,28,1)"
      ]
    },
    {
      "cell_type": "code",
      "execution_count": 15,
      "metadata": {
        "colab": {
          "base_uri": "https://localhost:8080/"
        },
        "id": "rsQpCzP89HSk",
        "outputId": "2d4ba2df-abd6-4e72-cb82-a2dc9732bd9a"
      },
      "outputs": [
        {
          "output_type": "execute_result",
          "data": {
            "text/plain": [
              "(60000, 28, 28, 1)"
            ]
          },
          "metadata": {},
          "execution_count": 15
        }
      ],
      "source": [
        "x_train.shape"
      ]
    },
    {
      "cell_type": "code",
      "execution_count": 16,
      "metadata": {
        "colab": {
          "base_uri": "https://localhost:8080/"
        },
        "id": "kd6o42Po9HSk",
        "outputId": "370d3130-0716-4a3f-b5a9-417325154cc5"
      },
      "outputs": [
        {
          "output_type": "execute_result",
          "data": {
            "text/plain": [
              "(10000, 28, 28)"
            ]
          },
          "metadata": {},
          "execution_count": 16
        }
      ],
      "source": [
        "x_test.shape"
      ]
    },
    {
      "cell_type": "code",
      "execution_count": 17,
      "metadata": {
        "id": "nn-V0XxE9HSk"
      },
      "outputs": [],
      "source": [
        "x_test=x_test.reshape(10000,28,28,1)"
      ]
    },
    {
      "cell_type": "code",
      "execution_count": 18,
      "metadata": {
        "colab": {
          "base_uri": "https://localhost:8080/"
        },
        "id": "QjwF2zIR9HSl",
        "outputId": "f2b82252-8b07-4037-bf56-619c57df6603"
      },
      "outputs": [
        {
          "output_type": "execute_result",
          "data": {
            "text/plain": [
              "(10000, 28, 28, 1)"
            ]
          },
          "metadata": {},
          "execution_count": 18
        }
      ],
      "source": [
        "x_test.shape"
      ]
    },
    {
      "cell_type": "code",
      "source": [
        "y_test.shape"
      ],
      "metadata": {
        "colab": {
          "base_uri": "https://localhost:8080/"
        },
        "id": "6R2_TxYg9xkv",
        "outputId": "412e7e5c-810d-4b74-e29f-4885a570fb50"
      },
      "execution_count": 19,
      "outputs": [
        {
          "output_type": "execute_result",
          "data": {
            "text/plain": [
              "(10000,)"
            ]
          },
          "metadata": {},
          "execution_count": 19
        }
      ]
    },
    {
      "cell_type": "code",
      "source": [
        "from sklearn.model_selection import train_test_split"
      ],
      "metadata": {
        "id": "cSyEAF-j7ggB"
      },
      "execution_count": 20,
      "outputs": []
    },
    {
      "cell_type": "code",
      "source": [
        "X_trainset, X_testset, y_trainset, y_testset  = train_test_split(x_train, y_train, test_size=0.1, random_state=3)"
      ],
      "metadata": {
        "id": "VmyhDGgu7Tof"
      },
      "execution_count": 21,
      "outputs": []
    },
    {
      "cell_type": "code",
      "source": [
        "X_trainset.shape"
      ],
      "metadata": {
        "colab": {
          "base_uri": "https://localhost:8080/"
        },
        "id": "0kYi4F1jRERW",
        "outputId": "cf5043d6-bbd8-43e9-aaca-c660375b242a"
      },
      "execution_count": 22,
      "outputs": [
        {
          "output_type": "execute_result",
          "data": {
            "text/plain": [
              "(54000, 28, 28, 1)"
            ]
          },
          "metadata": {},
          "execution_count": 22
        }
      ]
    },
    {
      "cell_type": "code",
      "source": [
        "X_testset.shape"
      ],
      "metadata": {
        "colab": {
          "base_uri": "https://localhost:8080/"
        },
        "id": "Mz1GdlkuSW2m",
        "outputId": "6c6f7107-2947-407f-8a86-f7105827fdfc"
      },
      "execution_count": 23,
      "outputs": [
        {
          "output_type": "execute_result",
          "data": {
            "text/plain": [
              "(6000, 28, 28, 1)"
            ]
          },
          "metadata": {},
          "execution_count": 23
        }
      ]
    },
    {
      "cell_type": "code",
      "source": [
        "y_trainset.shape"
      ],
      "metadata": {
        "colab": {
          "base_uri": "https://localhost:8080/"
        },
        "id": "GlKzsNAYRGVV",
        "outputId": "02714c00-89d0-4cb3-fa82-2d95f08dd3a7"
      },
      "execution_count": 24,
      "outputs": [
        {
          "output_type": "execute_result",
          "data": {
            "text/plain": [
              "(54000,)"
            ]
          },
          "metadata": {},
          "execution_count": 24
        }
      ]
    },
    {
      "cell_type": "code",
      "source": [
        "y_testset.shape"
      ],
      "metadata": {
        "colab": {
          "base_uri": "https://localhost:8080/"
        },
        "id": "eh5ge_vjSbze",
        "outputId": "694f3c2b-baef-4319-ceb3-173771fea767"
      },
      "execution_count": 25,
      "outputs": [
        {
          "output_type": "execute_result",
          "data": {
            "text/plain": [
              "(6000,)"
            ]
          },
          "metadata": {},
          "execution_count": 25
        }
      ]
    },
    {
      "cell_type": "code",
      "source": [
        "from keras.utils.np_utils import to_categorical"
      ],
      "metadata": {
        "id": "lqWc_KJvWMCj"
      },
      "execution_count": 26,
      "outputs": []
    },
    {
      "cell_type": "code",
      "source": [
        "y_cat_train=to_categorical(y_trainset,10)\n",
        "y_cat_test= to_categorical(y_testset,10)"
      ],
      "metadata": {
        "id": "4fSgWe9QTHVL"
      },
      "execution_count": 27,
      "outputs": []
    },
    {
      "cell_type": "code",
      "execution_count": 28,
      "metadata": {
        "id": "4I6vnGr_9HSl"
      },
      "outputs": [],
      "source": [
        "from keras.models import Sequential\n",
        "from keras.layers import Dense,Conv2D,MaxPool2D,Flatten,Dropout"
      ]
    },
    {
      "cell_type": "code",
      "execution_count": 29,
      "metadata": {
        "colab": {
          "base_uri": "https://localhost:8080/"
        },
        "id": "7BAbxsrv9HSl",
        "outputId": "1c5342e8-44e0-4fb6-87bc-5867b1eaf1f2"
      },
      "outputs": [
        {
          "output_type": "stream",
          "name": "stdout",
          "text": [
            "Model: \"sequential\"\n",
            "_________________________________________________________________\n",
            " Layer (type)                Output Shape              Param #   \n",
            "=================================================================\n",
            " conv2d (Conv2D)             (None, 25, 25, 32)        544       \n",
            "                                                                 \n",
            " max_pooling2d (MaxPooling2D  (None, 12, 12, 32)       0         \n",
            " )                                                               \n",
            "                                                                 \n",
            " flatten (Flatten)           (None, 4608)              0         \n",
            "                                                                 \n",
            " dropout (Dropout)           (None, 4608)              0         \n",
            "                                                                 \n",
            " dense (Dense)               (None, 128)               589952    \n",
            "                                                                 \n",
            " dense_1 (Dense)             (None, 10)                1290      \n",
            "                                                                 \n",
            "=================================================================\n",
            "Total params: 591,786\n",
            "Trainable params: 591,786\n",
            "Non-trainable params: 0\n",
            "_________________________________________________________________\n"
          ]
        }
      ],
      "source": [
        "#base model\n",
        "model=Sequential()\n",
        "\n",
        "#convolutional layer\n",
        "model.add(Conv2D(filters=32,kernel_size=(4,4),input_shape=(28, 28, 1), activation='relu',))\n",
        "\n",
        "#pooling layer\n",
        "model.add(MaxPool2D(pool_size=(2, 2)))\n",
        "\n",
        "#2D->1D\n",
        "model.add(Flatten())\n",
        "\n",
        "model.add(Dropout(0.5))\n",
        "\n",
        "#Dense layer\n",
        "model.add(Dense(128, activation='relu'))\n",
        "model.add(Dense(10, activation='softmax'))\n",
        "model.compile(loss='categorical_crossentropy',optimizer='adam',metrics=['accuracy'])\n",
        "model.summary()"
      ]
    },
    {
      "cell_type": "code",
      "execution_count": 30,
      "metadata": {
        "colab": {
          "base_uri": "https://localhost:8080/"
        },
        "id": "--zZ2ay19HSm",
        "outputId": "75fb82a1-1d71-4b4d-fae1-9719fe1b183d"
      },
      "outputs": [
        {
          "output_type": "stream",
          "name": "stdout",
          "text": [
            "Epoch 1/10\n",
            "1688/1688 [==============================] - 21s 6ms/step - loss: 0.1898 - accuracy: 0.9415 - val_loss: 0.0648 - val_accuracy: 0.9790\n",
            "Epoch 2/10\n",
            "1688/1688 [==============================] - 10s 6ms/step - loss: 0.0751 - accuracy: 0.9762 - val_loss: 0.0578 - val_accuracy: 0.9803\n",
            "Epoch 3/10\n",
            "1688/1688 [==============================] - 10s 6ms/step - loss: 0.0546 - accuracy: 0.9833 - val_loss: 0.0420 - val_accuracy: 0.9848\n",
            "Epoch 4/10\n",
            "1688/1688 [==============================] - 10s 6ms/step - loss: 0.0407 - accuracy: 0.9869 - val_loss: 0.0380 - val_accuracy: 0.9892\n",
            "Epoch 5/10\n",
            "1688/1688 [==============================] - 9s 6ms/step - loss: 0.0347 - accuracy: 0.9890 - val_loss: 0.0367 - val_accuracy: 0.9877\n",
            "Epoch 6/10\n",
            "1688/1688 [==============================] - 10s 6ms/step - loss: 0.0294 - accuracy: 0.9905 - val_loss: 0.0371 - val_accuracy: 0.9878\n",
            "Epoch 7/10\n",
            "1688/1688 [==============================] - 10s 6ms/step - loss: 0.0247 - accuracy: 0.9916 - val_loss: 0.0361 - val_accuracy: 0.9888\n",
            "Epoch 8/10\n",
            "1688/1688 [==============================] - 10s 6ms/step - loss: 0.0221 - accuracy: 0.9925 - val_loss: 0.0398 - val_accuracy: 0.9897\n",
            "Epoch 9/10\n",
            "1688/1688 [==============================] - 10s 6ms/step - loss: 0.0187 - accuracy: 0.9938 - val_loss: 0.0318 - val_accuracy: 0.9902\n",
            "Epoch 10/10\n",
            "1688/1688 [==============================] - 10s 6ms/step - loss: 0.0169 - accuracy: 0.9943 - val_loss: 0.0381 - val_accuracy: 0.9882\n"
          ]
        }
      ],
      "source": [
        "results = model.fit(X_trainset,y_cat_train,epochs=10, batch_size=32,validation_data=(X_testset,y_cat_test))"
      ]
    },
    {
      "cell_type": "code",
      "execution_count": 31,
      "metadata": {
        "colab": {
          "base_uri": "https://localhost:8080/"
        },
        "id": "wPIAqJw29HSm",
        "outputId": "b7f164a3-b826-45f4-9651-fb06214862ae"
      },
      "outputs": [
        {
          "output_type": "execute_result",
          "data": {
            "text/plain": [
              "['loss', 'accuracy']"
            ]
          },
          "metadata": {},
          "execution_count": 31
        }
      ],
      "source": [
        "model.metrics_names"
      ]
    },
    {
      "cell_type": "code",
      "execution_count": 32,
      "metadata": {
        "colab": {
          "base_uri": "https://localhost:8080/",
          "height": 296
        },
        "id": "yfpwmTj89HSm",
        "outputId": "225f4e74-e710-4521-9883-2899c319ba07"
      },
      "outputs": [
        {
          "output_type": "execute_result",
          "data": {
            "text/plain": [
              "Text(0.5, 0, 'Epoch')"
            ]
          },
          "metadata": {},
          "execution_count": 32
        },
        {
          "output_type": "display_data",
          "data": {
            "image/png": "[encoded data removed]",
            "text/plain": [
              "<Figure size 432x288 with 1 Axes>"
            ]
          },
          "metadata": {
            "needs_background": "light"
          }
        }
      ],
      "source": [
        "plt.plot(results.history['accuracy'])\n",
        "plt.ylabel('Accuracy')\n",
        "plt.xlabel('Epoch')"
      ]
    },
    {
      "cell_type": "code",
      "source": [
        "acc = results.history['accuracy']\n",
        "val_acc = results.history['val_accuracy']\n",
        "\n",
        "loss = results.history['loss']\n",
        "val_loss = results.history['val_loss']\n",
        "\n",
        "plt.figure(figsize=(8, 8))\n",
        "plt.subplot(2, 1, 1)\n",
        "plt.plot(acc, label='Training Accuracy')\n",
        "plt.plot(val_acc, label='Validation Accuracy')\n",
        "plt.legend(loc='lower right')\n",
        "plt.ylabel('Accuracy')\n",
        "plt.ylim([min(plt.ylim()),1])\n",
        "plt.title('Training and Validation Accuracy')\n",
        "\n",
        "plt.subplot(2, 1, 2)\n",
        "plt.plot(loss, label='Training Loss')\n",
        "plt.plot(val_loss, label='Validation Loss')\n",
        "plt.legend(loc='upper right')\n",
        "plt.ylabel('Cross Entropy')\n",
        "plt.ylim([0,1.0])\n",
        "plt.title('Training and Validation Loss')\n",
        "plt.xlabel('epoch')\n",
        "plt.show()"
      ],
      "metadata": {
        "colab": {
          "base_uri": "https://localhost:8080/",
          "height": 513
        },
        "id": "hCsCz4JMRurD",
        "outputId": "f0be56cb-ace5-4359-f40a-22fdcf90d74d"
      },
      "execution_count": 33,
      "outputs": [
        {
          "output_type": "display_data",
          "data": {
            "image/png": "[encoded data removed]",
            "text/plain": [
              "<Figure size 576x576 with 2 Axes>"
            ]
          },
          "metadata": {
            "needs_background": "light"
          }
        }
      ]
    },
    {
      "cell_type": "code",
      "execution_count": 34,
      "metadata": {
        "colab": {
          "base_uri": "https://localhost:8080/"
        },
        "id": "3_a-91yh9HSm",
        "outputId": "396b75a0-bcdd-4e16-9c9f-baa0240bd914"
      },
      "outputs": [
        {
          "output_type": "stream",
          "name": "stdout",
          "text": [
            "188/188 [==============================] - 1s 4ms/step - loss: 0.0381 - accuracy: 0.9882\n"
          ]
        },
        {
          "output_type": "execute_result",
          "data": {
            "text/plain": [
              "[0.0380985364317894, 0.9881666898727417]"
            ]
          },
          "metadata": {},
          "execution_count": 34
        }
      ],
      "source": [
        "model.evaluate(X_testset,y_cat_test)"
      ]
    },
    {
      "cell_type": "code",
      "execution_count": 35,
      "metadata": {
        "id": "nOKOXbnR9HSn"
      },
      "outputs": [],
      "source": [
        "predictions=model.predict(x_test) \n",
        "preds_classes_x=np.argmax(predictions,axis=1)"
      ]
    },
    {
      "cell_type": "code",
      "execution_count": 36,
      "metadata": {
        "colab": {
          "base_uri": "https://localhost:8080/"
        },
        "id": "TUwKquFZ9HSn",
        "outputId": "139c0b01-0f73-4041-93fe-4ca2ec4bd831"
      },
      "outputs": [
        {
          "output_type": "execute_result",
          "data": {
            "text/plain": [
              "7"
            ]
          },
          "metadata": {},
          "execution_count": 36
        }
      ],
      "source": [
        "preds_classes_x[0]"
      ]
    },
    {
      "cell_type": "code",
      "execution_count": 37,
      "metadata": {
        "colab": {
          "base_uri": "https://localhost:8080/"
        },
        "id": "OJhA_DpH9HSo",
        "outputId": "ee583a75-cb79-460e-b0c4-626725716ff3"
      },
      "outputs": [
        {
          "output_type": "execute_result",
          "data": {
            "text/plain": [
              "array([7, 2, 1, ..., 4, 5, 6])"
            ]
          },
          "metadata": {},
          "execution_count": 37
        }
      ],
      "source": [
        "preds_classes_x"
      ]
    },
    {
      "cell_type": "code",
      "execution_count": 38,
      "metadata": {
        "id": "dUYNODDd9HSo"
      },
      "outputs": [],
      "source": [
        "from sklearn.metrics import classification_report\n",
        "from sklearn.metrics import confusion_matrix\n",
        "import itertools\n",
        "import numpy as np"
      ]
    },
    {
      "cell_type": "code",
      "execution_count": 39,
      "metadata": {
        "id": "5ZLjt75E9HSp"
      },
      "outputs": [],
      "source": [
        "def plot_confusion_matrix(cm, classes,\n",
        "                          normalize=False,\n",
        "                          title='Confusion matrix',\n",
        "                          cmap=plt.cm.Blues):\n",
        "    if normalize:\n",
        "        cm = cm.astype('float') / cm.sum(axis=1)[:, np.newaxis]\n",
        "        print(\"Normalized confusion matrix\")\n",
        "    else:\n",
        "        print('Confusion matrix, without normalization')\n",
        "    print(cm)\n",
        "    plt.imshow(cm, interpolation='nearest', cmap=cmap)\n",
        "    plt.title(title)\n",
        "    plt.colorbar()\n",
        "    tick_marks = np.arange(len(classes))\n",
        "    plt.xticks(tick_marks, classes, rotation=45)\n",
        "    plt.yticks(tick_marks, classes)\n",
        "\n",
        "    fmt = '.2f' if normalize else 'd'\n",
        "    thresh = cm.max() / 2.\n",
        "    for i, j in itertools.product(range(cm.shape[0]), range(cm.shape[1])):\n",
        "        plt.text(j, i, format(cm[i, j], fmt),\n",
        "                 horizontalalignment=\"center\",\n",
        "                 color=\"white\" if cm[i, j] > thresh else \"black\")\n",
        "\n",
        "    plt.tight_layout()\n",
        "    plt.ylabel('True label')\n",
        "    plt.xlabel('Predicted label')"
      ]
    },
    {
      "cell_type": "code",
      "execution_count": 40,
      "metadata": {
        "colab": {
          "base_uri": "https://localhost:8080/",
          "height": 797
        },
        "id": "7-AM7wtg9HSp",
        "outputId": "e2957f20-bfc6-49f9-f6f7-bf774e88bcec"
      },
      "outputs": [
        {
          "output_type": "stream",
          "name": "stdout",
          "text": [
            "              precision    recall  f1-score   support\n",
            "\n",
            "           0       0.99      1.00      0.99       980\n",
            "           1       1.00      0.99      0.99      1135\n",
            "           2       0.98      1.00      0.99      1032\n",
            "           3       0.99      0.99      0.99      1010\n",
            "           4       0.99      0.99      0.99       982\n",
            "           5       0.99      0.99      0.99       892\n",
            "           6       0.99      0.99      0.99       958\n",
            "           7       0.99      0.98      0.99      1028\n",
            "           8       1.00      0.98      0.99       974\n",
            "           9       0.99      0.98      0.98      1009\n",
            "\n",
            "    accuracy                           0.99     10000\n",
            "   macro avg       0.99      0.99      0.99     10000\n",
            "weighted avg       0.99      0.99      0.99     10000\n",
            "\n",
            "Confusion matrix, without normalization\n",
            "[[ 976    0    1    0    0    0    2    1    0    0]\n",
            " [   1 1128    2    0    0    2    1    0    0    1]\n",
            " [   1    0 1027    0    0    0    1    3    0    0]\n",
            " [   0    0    3 1003    0    2    0    1    1    0]\n",
            " [   0    0    0    0  975    0    5    0    0    2]\n",
            " [   2    0    1    7    0  879    3    0    0    0]\n",
            " [   3    3    0    0    1    1  949    0    1    0]\n",
            " [   1    0   12    1    0    0    0 1012    1    1]\n",
            " [   4    0    7    2    1    1    1    2  951    5]\n",
            " [   2    2    0    2   10    4    0    3    0  986]]\n"
          ]
        },
        {
          "output_type": "display_data",
          "data": {
            "image/png": "[encoded data removed]",
            "text/plain": [
              "<Figure size 432x288 with 2 Axes>"
            ]
          },
          "metadata": {
            "needs_background": "light"
          }
        }
      ],
      "source": [
        "# Compute confusion matrix\n",
        "cnf_matrix = confusion_matrix(y_test, preds_classes_x)\n",
        "#np.set_printoptions(precision=2)\n",
        "print (classification_report(y_test, preds_classes_x))\n",
        "plt.figure()\n",
        "plot_confusion_matrix(cnf_matrix, classes=['0','1','2','3','4','5','6','7','8','9'],normalize= False,  title='Confusion matrix')"
      ]
    },
    {
      "cell_type": "code",
      "execution_count": 41,
      "metadata": {
        "colab": {
          "base_uri": "https://localhost:8080/"
        },
        "id": "8xwGQqv79HSp",
        "outputId": "4ef0ad0a-5412-4cc2-c6dc-fc78def9c6e7"
      },
      "outputs": [
        {
          "output_type": "stream",
          "name": "stdout",
          "text": [
            "Model: \"sequential_1\"\n",
            "_________________________________________________________________\n",
            " Layer (type)                Output Shape              Param #   \n",
            "=================================================================\n",
            " conv2d_1 (Conv2D)           (None, 24, 24, 32)        832       \n",
            "                                                                 \n",
            " max_pooling2d_1 (MaxPooling  (None, 12, 12, 32)       0         \n",
            " 2D)                                                             \n",
            "                                                                 \n",
            " conv2d_2 (Conv2D)           (None, 8, 8, 64)          51264     \n",
            "                                                                 \n",
            " max_pooling2d_2 (MaxPooling  (None, 4, 4, 64)         0         \n",
            " 2D)                                                             \n",
            "                                                                 \n",
            " conv2d_3 (Conv2D)           (None, 2, 2, 32)          18464     \n",
            "                                                                 \n",
            " max_pooling2d_3 (MaxPooling  (None, 1, 1, 32)         0         \n",
            " 2D)                                                             \n",
            "                                                                 \n",
            " flatten_1 (Flatten)         (None, 32)                0         \n",
            "                                                                 \n",
            " dense_2 (Dense)             (None, 256)               8448      \n",
            "                                                                 \n",
            " dense_3 (Dense)             (None, 128)               32896     \n",
            "                                                                 \n",
            " dense_4 (Dense)             (None, 64)                8256      \n",
            "                                                                 \n",
            " dropout_1 (Dropout)         (None, 64)                0         \n",
            "                                                                 \n",
            " dense_5 (Dense)             (None, 10)                650       \n",
            "                                                                 \n",
            "=================================================================\n",
            "Total params: 120,810\n",
            "Trainable params: 120,810\n",
            "Non-trainable params: 0\n",
            "_________________________________________________________________\n"
          ]
        }
      ],
      "source": [
        "#base model\n",
        "model_1=Sequential()\n",
        "\n",
        "#convolutional layer\n",
        "model_1.add(Conv2D(filters=32,kernel_size=(5,5),input_shape=(28, 28, 1), activation='relu',))\n",
        "#pooling layer\n",
        "model_1.add(MaxPool2D(pool_size=(2, 2)))\n",
        "\n",
        "#convolutional layer\n",
        "model_1.add(Conv2D(filters=64,kernel_size=(5,5),input_shape=(28, 28, 1), activation='relu',))\n",
        "#pooling layer\n",
        "model_1.add(MaxPool2D(pool_size=(2, 2)))\n",
        "\n",
        "#convolutional layer\n",
        "model_1.add(Conv2D(filters=32,kernel_size=(3,3),input_shape=(28, 28, 1), activation='relu',))\n",
        "#pooling layer\n",
        "model_1.add(MaxPool2D(pool_size=(2, 2)))\n",
        "\n",
        "#2D->1D\n",
        "model_1.add(Flatten())\n",
        "\n",
        "\n",
        "#Dense layer\n",
        "model_1.add(Dense(256, activation='relu'))\n",
        "model_1.add(Dense(128, activation='relu'))\n",
        "model_1.add(Dense(64, activation='relu'))\n",
        "model_1.add(Dropout(0.5))\n",
        "model_1.add(Dense(10, activation='sigmoid'))\n",
        "model_1.compile(loss='categorical_crossentropy',optimizer='adam',metrics=['accuracy'])\n",
        "model_1.summary()"
      ]
    },
    {
      "cell_type": "code",
      "source": [
        "results_1 = model_1.fit(X_trainset,y_cat_train,epochs=10, batch_size=64,validation_data=(X_testset,y_cat_test))"
      ],
      "metadata": {
        "colab": {
          "base_uri": "https://localhost:8080/"
        },
        "id": "UyUbEd7-hHUb",
        "outputId": "e43d50a6-82a0-41fd-f893-12528f93e576"
      },
      "execution_count": 42,
      "outputs": [
        {
          "output_type": "stream",
          "name": "stdout",
          "text": [
            "Epoch 1/10\n",
            "844/844 [==============================] - 9s 9ms/step - loss: 0.3500 - accuracy: 0.8925 - val_loss: 0.0973 - val_accuracy: 0.9720\n",
            "Epoch 2/10\n",
            "844/844 [==============================] - 8s 9ms/step - loss: 0.1011 - accuracy: 0.9746 - val_loss: 0.0569 - val_accuracy: 0.9853\n",
            "Epoch 3/10\n",
            "844/844 [==============================] - 7s 9ms/step - loss: 0.0668 - accuracy: 0.9834 - val_loss: 0.0587 - val_accuracy: 0.9838\n",
            "Epoch 4/10\n",
            "844/844 [==============================] - 8s 9ms/step - loss: 0.0516 - accuracy: 0.9868 - val_loss: 0.0491 - val_accuracy: 0.9867\n",
            "Epoch 5/10\n",
            "844/844 [==============================] - 8s 9ms/step - loss: 0.0457 - accuracy: 0.9882 - val_loss: 0.0440 - val_accuracy: 0.9882\n",
            "Epoch 6/10\n",
            "844/844 [==============================] - 8s 9ms/step - loss: 0.0354 - accuracy: 0.9908 - val_loss: 0.0593 - val_accuracy: 0.9848\n",
            "Epoch 7/10\n",
            "844/844 [==============================] - 8s 9ms/step - loss: 0.0334 - accuracy: 0.9913 - val_loss: 0.0409 - val_accuracy: 0.9907\n",
            "Epoch 8/10\n",
            "844/844 [==============================] - 8s 9ms/step - loss: 0.0285 - accuracy: 0.9924 - val_loss: 0.0633 - val_accuracy: 0.9853\n",
            "Epoch 9/10\n",
            "844/844 [==============================] - 8s 9ms/step - loss: 0.0239 - accuracy: 0.9938 - val_loss: 0.0535 - val_accuracy: 0.9878\n",
            "Epoch 10/10\n",
            "844/844 [==============================] - 8s 9ms/step - loss: 0.0232 - accuracy: 0.9939 - val_loss: 0.0517 - val_accuracy: 0.9895\n"
          ]
        }
      ]
    },
    {
      "cell_type": "code",
      "source": [
        "results_2 = model_1.fit(X_trainset,y_cat_train,epochs=10, batch_size=128,validation_data=(X_testset,y_cat_test))"
      ],
      "metadata": {
        "colab": {
          "base_uri": "https://localhost:8080/"
        },
        "id": "PGXMFOVbvrwO",
        "outputId": "24bf5b06-0835-4804-eb7c-30565d36cb61"
      },
      "execution_count": 43,
      "outputs": [
        {
          "output_type": "stream",
          "name": "stdout",
          "text": [
            "Epoch 1/10\n",
            "422/422 [==============================] - 5s 12ms/step - loss: 0.0111 - accuracy: 0.9969 - val_loss: 0.0509 - val_accuracy: 0.9900\n",
            "Epoch 2/10\n",
            "422/422 [==============================] - 4s 10ms/step - loss: 0.0072 - accuracy: 0.9980 - val_loss: 0.0734 - val_accuracy: 0.9892\n",
            "Epoch 3/10\n",
            "422/422 [==============================] - 4s 10ms/step - loss: 0.0094 - accuracy: 0.9976 - val_loss: 0.0576 - val_accuracy: 0.9912\n",
            "Epoch 4/10\n",
            "422/422 [==============================] - 4s 10ms/step - loss: 0.0101 - accuracy: 0.9972 - val_loss: 0.0599 - val_accuracy: 0.9898\n",
            "Epoch 5/10\n",
            "422/422 [==============================] - 4s 10ms/step - loss: 0.0086 - accuracy: 0.9979 - val_loss: 0.0600 - val_accuracy: 0.9907\n",
            "Epoch 6/10\n",
            "422/422 [==============================] - 4s 10ms/step - loss: 0.0098 - accuracy: 0.9974 - val_loss: 0.0520 - val_accuracy: 0.9910\n",
            "Epoch 7/10\n",
            "422/422 [==============================] - 4s 11ms/step - loss: 0.0110 - accuracy: 0.9971 - val_loss: 0.0759 - val_accuracy: 0.9872\n",
            "Epoch 8/10\n",
            "422/422 [==============================] - 4s 10ms/step - loss: 0.0093 - accuracy: 0.9976 - val_loss: 0.0568 - val_accuracy: 0.9900\n",
            "Epoch 9/10\n",
            "422/422 [==============================] - 4s 10ms/step - loss: 0.0065 - accuracy: 0.9984 - val_loss: 0.0724 - val_accuracy: 0.9905\n",
            "Epoch 10/10\n",
            "422/422 [==============================] - 4s 10ms/step - loss: 0.0081 - accuracy: 0.9978 - val_loss: 0.0934 - val_accuracy: 0.9862\n"
          ]
        }
      ]
    },
    {
      "cell_type": "code",
      "source": [
        "results_3 = model_1.fit(X_trainset,y_cat_train,epochs=10, batch_size=256,validation_data=(X_testset,y_cat_test))"
      ],
      "metadata": {
        "colab": {
          "base_uri": "https://localhost:8080/"
        },
        "id": "SNIVVU8rvsTx",
        "outputId": "f2f20537-1725-4759-afa9-e751f04c3eb6"
      },
      "execution_count": 44,
      "outputs": [
        {
          "output_type": "stream",
          "name": "stdout",
          "text": [
            "Epoch 1/10\n",
            "211/211 [==============================] - 3s 14ms/step - loss: 0.0046 - accuracy: 0.9989 - val_loss: 0.0529 - val_accuracy: 0.9922\n",
            "Epoch 2/10\n",
            "211/211 [==============================] - 3s 13ms/step - loss: 0.0015 - accuracy: 0.9996 - val_loss: 0.0718 - val_accuracy: 0.9918\n",
            "Epoch 3/10\n",
            "211/211 [==============================] - 3s 13ms/step - loss: 7.7196e-04 - accuracy: 0.9998 - val_loss: 0.0929 - val_accuracy: 0.9908\n",
            "Epoch 4/10\n",
            "211/211 [==============================] - 3s 13ms/step - loss: 0.0033 - accuracy: 0.9994 - val_loss: 0.0846 - val_accuracy: 0.9900\n",
            "Epoch 5/10\n",
            "211/211 [==============================] - 3s 13ms/step - loss: 0.0064 - accuracy: 0.9984 - val_loss: 0.0650 - val_accuracy: 0.9908\n",
            "Epoch 6/10\n",
            "211/211 [==============================] - 3s 13ms/step - loss: 0.0018 - accuracy: 0.9996 - val_loss: 0.0711 - val_accuracy: 0.9917\n",
            "Epoch 7/10\n",
            "211/211 [==============================] - 3s 13ms/step - loss: 0.0035 - accuracy: 0.9991 - val_loss: 0.0784 - val_accuracy: 0.9902\n",
            "Epoch 8/10\n",
            "211/211 [==============================] - 3s 13ms/step - loss: 0.0016 - accuracy: 0.9996 - val_loss: 0.0764 - val_accuracy: 0.9922\n",
            "Epoch 9/10\n",
            "211/211 [==============================] - 3s 13ms/step - loss: 0.0065 - accuracy: 0.9981 - val_loss: 0.0649 - val_accuracy: 0.9897\n",
            "Epoch 10/10\n",
            "211/211 [==============================] - 3s 13ms/step - loss: 0.0040 - accuracy: 0.9988 - val_loss: 0.0623 - val_accuracy: 0.9920\n"
          ]
        }
      ]
    },
    {
      "cell_type": "code",
      "source": [
        "plt.plot(results_1.history['accuracy'])\n",
        "plt.ylabel('Accuracy')\n",
        "plt.xlabel('Epoch')"
      ],
      "metadata": {
        "colab": {
          "base_uri": "https://localhost:8080/",
          "height": 296
        },
        "id": "Cpdt8SSF029W",
        "outputId": "6d5c5c61-42d9-4839-99f0-25fc085a47b5"
      },
      "execution_count": 45,
      "outputs": [
        {
          "output_type": "execute_result",
          "data": {
            "text/plain": [
              "Text(0.5, 0, 'Epoch')"
            ]
          },
          "metadata": {},
          "execution_count": 45
        },
        {
          "output_type": "display_data",
          "data": {
            "image/png": "[encoded data removed]",
            "text/plain": [
              "<Figure size 432x288 with 1 Axes>"
            ]
          },
          "metadata": {
            "needs_background": "light"
          }
        }
      ]
    },
    {
      "cell_type": "code",
      "source": [
        "plt.plot(results_2.history['accuracy'])\n",
        "plt.ylabel('Accuracy')\n",
        "plt.xlabel('Epoch')"
      ],
      "metadata": {
        "colab": {
          "base_uri": "https://localhost:8080/",
          "height": 296
        },
        "id": "7x6xq3hX-dA9",
        "outputId": "2654e75b-c5df-4d5a-f61d-e365c883bfe8"
      },
      "execution_count": 46,
      "outputs": [
        {
          "output_type": "execute_result",
          "data": {
            "text/plain": [
              "Text(0.5, 0, 'Epoch')"
            ]
          },
          "metadata": {},
          "execution_count": 46
        },
        {
          "output_type": "display_data",
          "data": {
            "image/png": "[encoded data removed]",
            "text/plain": [
              "<Figure size 432x288 with 1 Axes>"
            ]
          },
          "metadata": {
            "needs_background": "light"
          }
        }
      ]
    },
    {
      "cell_type": "code",
      "source": [
        "plt.plot(results_3.history['accuracy'])\n",
        "plt.ylabel('Accuracy')\n",
        "plt.xlabel('Epoch')"
      ],
      "metadata": {
        "colab": {
          "base_uri": "https://localhost:8080/",
          "height": 296
        },
        "id": "McrYOhrR-fyg",
        "outputId": "b476af5f-6763-4cbd-84e6-b624c4e0919a"
      },
      "execution_count": 47,
      "outputs": [
        {
          "output_type": "execute_result",
          "data": {
            "text/plain": [
              "Text(0.5, 0, 'Epoch')"
            ]
          },
          "metadata": {},
          "execution_count": 47
        },
        {
          "output_type": "display_data",
          "data": {
            "image/png": "[encoded data removed]",
            "text/plain": [
              "<Figure size 432x288 with 1 Axes>"
            ]
          },
          "metadata": {
            "needs_background": "light"
          }
        }
      ]
    },
    {
      "cell_type": "code",
      "source": [
        "model_1.evaluate(X_testset,y_cat_test)"
      ],
      "metadata": {
        "colab": {
          "base_uri": "https://localhost:8080/"
        },
        "id": "5u5XgzDj-iXz",
        "outputId": "23c1ae42-a3c1-44ce-e32a-84721acf5ce7"
      },
      "execution_count": 48,
      "outputs": [
        {
          "output_type": "stream",
          "name": "stdout",
          "text": [
            "188/188 [==============================] - 1s 5ms/step - loss: 0.0623 - accuracy: 0.9920\n"
          ]
        },
        {
          "output_type": "execute_result",
          "data": {
            "text/plain": [
              "[0.06227540597319603, 0.9919999837875366]"
            ]
          },
          "metadata": {},
          "execution_count": 48
        }
      ]
    },
    {
      "cell_type": "code",
      "source": [
        "predictions_1=model_1.predict(x_test) \n",
        "preds_classes_x_1=np.argmax(predictions,axis=1)"
      ],
      "metadata": {
        "id": "Ur04W7DMCyuY"
      },
      "execution_count": 49,
      "outputs": []
    },
    {
      "cell_type": "code",
      "source": [
        "# Compute confusion matrix\n",
        "cnf_matrix_1 = confusion_matrix(y_test, preds_classes_x_1)\n",
        "#np.set_printoptions(precision=2)\n",
        "print (classification_report(y_test, preds_classes_x))\n",
        "plt.figure()\n",
        "plot_confusion_matrix(cnf_matrix, classes=['0','1','2','3','4','5','6','7','8','9'],normalize= False,  title='Confusion matrix')"
      ],
      "metadata": {
        "colab": {
          "base_uri": "https://localhost:8080/",
          "height": 797
        },
        "id": "DAjI9yqxC4X0",
        "outputId": "097270f9-e16f-4818-8676-c76e42852695"
      },
      "execution_count": 50,
      "outputs": [
        {
          "output_type": "stream",
          "name": "stdout",
          "text": [
            "              precision    recall  f1-score   support\n",
            "\n",
            "           0       0.99      1.00      0.99       980\n",
            "           1       1.00      0.99      0.99      1135\n",
            "           2       0.98      1.00      0.99      1032\n",
            "           3       0.99      0.99      0.99      1010\n",
            "           4       0.99      0.99      0.99       982\n",
            "           5       0.99      0.99      0.99       892\n",
            "           6       0.99      0.99      0.99       958\n",
            "           7       0.99      0.98      0.99      1028\n",
            "           8       1.00      0.98      0.99       974\n",
            "           9       0.99      0.98      0.98      1009\n",
            "\n",
            "    accuracy                           0.99     10000\n",
            "   macro avg       0.99      0.99      0.99     10000\n",
            "weighted avg       0.99      0.99      0.99     10000\n",
            "\n",
            "Confusion matrix, without normalization\n",
            "[[ 976    0    1    0    0    0    2    1    0    0]\n",
            " [   1 1128    2    0    0    2    1    0    0    1]\n",
            " [   1    0 1027    0    0    0    1    3    0    0]\n",
            " [   0    0    3 1003    0    2    0    1    1    0]\n",
            " [   0    0    0    0  975    0    5    0    0    2]\n",
            " [   2    0    1    7    0  879    3    0    0    0]\n",
            " [   3    3    0    0    1    1  949    0    1    0]\n",
            " [   1    0   12    1    0    0    0 1012    1    1]\n",
            " [   4    0    7    2    1    1    1    2  951    5]\n",
            " [   2    2    0    2   10    4    0    3    0  986]]\n"
          ]
        },
        {
          "output_type": "display_data",
          "data": {
            "image/png": "[encoded data removed]",
            "text/plain": [
              "<Figure size 432x288 with 2 Axes>"
            ]
          },
          "metadata": {
            "needs_background": "light"
          }
        }
      ]
    },
    {
      "cell_type": "code",
      "source": [
        ""
      ],
      "metadata": {
        "id": "2ciFvetoDGsN"
      },
      "execution_count": 50,
      "outputs": []
    }
  ],
  "metadata": {
    "kernelspec": {
      "display_name": "Python 3",
      "language": "python",
      "name": "python3"
    },
    "language_info": {
      "codemirror_mode": {
        "name": "ipython",
        "version": 3
      },
      "file_extension": ".py",
      "mimetype": "text/x-python",
      "name": "python",
      "nbconvert_exporter": "python",
      "pygments_lexer": "ipython3",
      "version": "3.8.5"
    },
    "colab": {
      "name": "Keras CNN MNIST Dataset.ipynb",
      "provenance": [],
      "collapsed_sections": []
    },
    "accelerator": "GPU"
  },
  "nbformat": 4,
  "nbformat_minor": 0
}