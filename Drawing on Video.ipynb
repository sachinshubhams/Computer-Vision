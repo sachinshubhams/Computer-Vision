{
 "cells": [
  {
   "cell_type": "code",
   "execution_count": 5,
   "metadata": {},
   "outputs": [],
   "source": [
    "import cv2 as cv\n",
    "\n",
    "cap=cv.VideoCapture(0)\n",
    "width = int(cap.get(cv.CAP_PROP_FRAME_WIDTH))\n",
    "height = int(cap.get(cv.CAP_PROP_FRAME_HEIGHT))\n",
    "# Coordinates for Rectangle\n",
    "#top left corner\n",
    "x = width//2\n",
    "y = height//2\n",
    "#bottom right corner\n",
    "#x+w, y+h\n",
    "# Width and height\n",
    "w = width//4\n",
    "h = height//4\n",
    "while True:\n",
    "    ret, frame = cap.read()\n",
    "    cv.rectangle(frame, (x, y), (x+w, y+h), color=(0,0,255),thickness= 5)\n",
    "    cv.imshow('frame', frame)\n",
    "    if cv.waitKey(1) & 0xFF == ord('q'):\n",
    "        break\n",
    "cap.release()\n",
    "cv.destroyAllWindows()"
   ]
  },
  {
   "cell_type": "code",
   "execution_count": 1,
   "metadata": {},
   "outputs": [],
   "source": [
    "import cv2 as cv\n",
    "def draw_rectangle(event,x,y,flags,param):\n",
    "    global pt1,pt2,topLeft_clicked,botRight_clicked\n",
    "    if event == cv.EVENT_LBUTTONDOWN:\n",
    "        if topLeft_clicked == True and botRight_clicked == True:\n",
    "            topLeft_clicked = False\n",
    "            botRight_clicked = False\n",
    "            pt1 = (0,0)\n",
    "            pt2 = (0,0)\n",
    "        if topLeft_clicked == False:\n",
    "            pt1 = (x,y)\n",
    "            topLeft_clicked = True\n",
    "        elif botRight_clicked == False:\n",
    "            pt2 = (x,y)\n",
    "            botRight_clicked = True\n",
    "pt1 = (0,0)\n",
    "pt2 = (0,0)\n",
    "topLeft_clicked = False\n",
    "botRight_clicked = False\n",
    "cap = cv.VideoCapture(0) \n",
    "cv.namedWindow('Test')\n",
    "cv.setMouseCallback('Test', draw_rectangle) \n",
    "while True:\n",
    "    ret, frame = cap.read()\n",
    "    if topLeft_clicked:\n",
    "        cv.circle(frame, center=pt1, radius=5, color=(0,0,255), thickness=-1)\n",
    "    if topLeft_clicked and botRight_clicked:\n",
    "        cv.rectangle(frame, pt1, pt2, (0, 0, 255), 2)\n",
    "    cv.imshow('Test', frame)\n",
    "    if cv.waitKey(1) & 0xFF == ord('q'):\n",
    "        break\n",
    "cap.release()\n",
    "cv.destroyAllWindows()"
   ]
  }
 ],
 "metadata": {
  "kernelspec": {
   "display_name": "Python 3",
   "language": "python",
   "name": "python3"
  },
  "language_info": {
   "codemirror_mode": {
    "name": "ipython",
    "version": 3
   },
   "file_extension": ".py",
   "mimetype": "text/x-python",
   "name": "python",
   "nbconvert_exporter": "python",
   "pygments_lexer": "ipython3",
   "version": "3.6.6"
  }
 },
 "nbformat": 4,
 "nbformat_minor": 2
}
