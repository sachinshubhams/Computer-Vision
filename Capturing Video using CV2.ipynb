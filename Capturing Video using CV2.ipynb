{
 "cells": [
  {
   "cell_type": "code",
   "execution_count": null,
   "metadata": {},
   "outputs": [],
   "source": [
    "import cv2 as cv\n",
    "\n",
    "capture=cv.VideoCapture(0)\n",
    "width=int(capture.get(cv.CAP_PROP_FRAME_WIDTH))\n",
    "height=int (capture.get(cv.CAP_PROP_FRAME_HEIGHT))\n",
    "writer=cv.VideoWriter('my_vid.mp4',cv.VideoWriter_fourcc(*'DIVX'),20,(width,height)) #for MAC or Linux use *'XVID'\n",
    "while True:\n",
    "    ret, frame=capture.read()\n",
    "    #gray_scale=cv.cvtColor(frame,cv.COLOR_BGR2GRAY)\n",
    "    writer.write(frame)\n",
    "    cv.imshow('frame', frame)\n",
    "    if cv.waitKey(1) & 0xFF == ord('q'):\n",
    "        break\n",
    "writer().release()        \n",
    "capture.release()        \n",
    "cv.destroyAllWindows()  "
   ]
  },
  {
   "cell_type": "code",
   "execution_count": null,
   "metadata": {},
   "outputs": [],
   "source": [
    "import time\n",
    "capture = cv.VideoCapture('my_vid.mp4')\n",
    "fps = 25\n",
    "if capture.isOpened()== False: \n",
    "    print(\"Error opening the video file.\")\n",
    "while capture.isOpened():\n",
    "    ret, frame = capture.read()\n",
    "    if ret == True:\n",
    "        time.sleep(1/fps)\n",
    "        cv.imshow('frame',frame)\n",
    "        if cv.waitKey(25) & 0xFF == ord('q'):\n",
    "            break\n",
    "    else:\n",
    "        break\n",
    "capture.release()\n",
    "cv.destroyAllWindows()"
   ]
  }
 ],
 "metadata": {
  "kernelspec": {
   "display_name": "Python 3",
   "language": "python",
   "name": "python3"
  },
  "language_info": {
   "codemirror_mode": {
    "name": "ipython",
    "version": 3
   },
   "file_extension": ".py",
   "mimetype": "text/x-python",
   "name": "python",
   "nbconvert_exporter": "python",
   "pygments_lexer": "ipython3",
   "version": "3.6.6"
  }
 },
 "nbformat": 4,
 "nbformat_minor": 2
}
